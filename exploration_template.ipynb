{
  "nbformat": 4,
  "nbformat_minor": 0,
  "metadata": {
    "kernelspec": {
      "display_name": "Python [default]",
      "language": "python",
      "name": "python3"
    },
    "language_info": {
      "codemirror_mode": {
        "name": "ipython",
        "version": 3
      },
      "file_extension": ".py",
      "mimetype": "text/x-python",
      "name": "python",
      "nbconvert_exporter": "python",
      "pygments_lexer": "ipython3",
      "version": "3.5.3"
    },
    "colab": {
      "name": "exploration_template.ipynb",
      "provenance": []
    }
  },
  "cells": [
    {
      "cell_type": "markdown",
      "metadata": {
        "id": "cdXnBk_hjM_O"
      },
      "source": [
        "# Ford GoBike System Data Exploration\n",
        "## by Amr Mohamed Abd Albadee\n",
        "\n",
        "## Preliminary Wrangling\n",
        "\n"
      ]
    },
    {
      "cell_type": "code",
      "metadata": {
        "id": "nx4aw-9VjM_V"
      },
      "source": [
        "# import all packages and set plots to be embedded inline\n",
        "import numpy as np\n",
        "import pandas as pd\n",
        "import matplotlib.pyplot as plt\n",
        "import seaborn as sb\n",
        "\n",
        "%matplotlib inline"
      ],
      "execution_count": 1,
      "outputs": []
    },
    {
      "cell_type": "code",
      "metadata": {
        "colab": {
          "base_uri": "https://localhost:8080/"
        },
        "id": "BjDtjNaYkf55",
        "outputId": "12dc8c9b-e03f-4fbd-fcca-744cbae835b5"
      },
      "source": [
        "#get Dataset\n",
        "!wget https://video.udacity-data.com/topher/2020/October/5f91cf38_201902-fordgobike-tripdata/201902-fordgobike-tripdata.csv"
      ],
      "execution_count": 2,
      "outputs": [
        {
          "output_type": "stream",
          "text": [
            "--2021-06-29 20:39:02--  https://video.udacity-data.com/topher/2020/October/5f91cf38_201902-fordgobike-tripdata/201902-fordgobike-tripdata.csv\n",
            "Resolving video.udacity-data.com (video.udacity-data.com)... 104.21.234.211, 104.21.234.210, 2606:4700:3038::6815:ead2, ...\n",
            "Connecting to video.udacity-data.com (video.udacity-data.com)|104.21.234.211|:443... connected.\n",
            "HTTP request sent, awaiting response... 200 OK\n",
            "Length: 39422395 (38M) [text/csv]\n",
            "Saving to: ‘201902-fordgobike-tripdata.csv’\n",
            "\n",
            "201902-fordgobike-t 100%[===================>]  37.60M  40.7MB/s    in 0.9s    \n",
            "\n",
            "2021-06-29 20:39:03 (40.7 MB/s) - ‘201902-fordgobike-tripdata.csv’ saved [39422395/39422395]\n",
            "\n"
          ],
          "name": "stdout"
        }
      ]
    },
    {
      "cell_type": "code",
      "metadata": {
        "id": "e0AsRtMzkcT-"
      },
      "source": [
        "# load in the dataset into a pandas dataframe\n",
        "df = pd.read_csv('/content/201902-fordgobike-tripdata.csv')"
      ],
      "execution_count": 3,
      "outputs": []
    },
    {
      "cell_type": "code",
      "metadata": {
        "colab": {
          "base_uri": "https://localhost:8080/"
        },
        "id": "-85ERzFRlgtl",
        "outputId": "6533e79f-4abe-449d-b58d-eb9bd09e36b3"
      },
      "source": [
        "#data shape\n",
        "print(df.shape)"
      ],
      "execution_count": 4,
      "outputs": [
        {
          "output_type": "stream",
          "text": [
            "(183412, 16)\n"
          ],
          "name": "stdout"
        }
      ]
    },
    {
      "cell_type": "code",
      "metadata": {
        "colab": {
          "base_uri": "https://localhost:8080/",
          "height": 707
        },
        "id": "qU5lxkobljg5",
        "outputId": "8e124a34-92cf-4911-f2be-dfec698da15d"
      },
      "source": [
        "#describtion & summary of data\n",
        "print(df.info())\n",
        "display(df.describe())"
      ],
      "execution_count": 5,
      "outputs": [
        {
          "output_type": "stream",
          "text": [
            "<class 'pandas.core.frame.DataFrame'>\n",
            "RangeIndex: 183412 entries, 0 to 183411\n",
            "Data columns (total 16 columns):\n",
            " #   Column                   Non-Null Count   Dtype  \n",
            "---  ------                   --------------   -----  \n",
            " 0   duration_sec             183412 non-null  int64  \n",
            " 1   start_time               183412 non-null  object \n",
            " 2   end_time                 183412 non-null  object \n",
            " 3   start_station_id         183215 non-null  float64\n",
            " 4   start_station_name       183215 non-null  object \n",
            " 5   start_station_latitude   183412 non-null  float64\n",
            " 6   start_station_longitude  183412 non-null  float64\n",
            " 7   end_station_id           183215 non-null  float64\n",
            " 8   end_station_name         183215 non-null  object \n",
            " 9   end_station_latitude     183412 non-null  float64\n",
            " 10  end_station_longitude    183412 non-null  float64\n",
            " 11  bike_id                  183412 non-null  int64  \n",
            " 12  user_type                183412 non-null  object \n",
            " 13  member_birth_year        175147 non-null  float64\n",
            " 14  member_gender            175147 non-null  object \n",
            " 15  bike_share_for_all_trip  183412 non-null  object \n",
            "dtypes: float64(7), int64(2), object(7)\n",
            "memory usage: 22.4+ MB\n",
            "None\n"
          ],
          "name": "stdout"
        },
        {
          "output_type": "display_data",
          "data": {
            "text/html": [
              "<div>\n",
              "<style scoped>\n",
              "    .dataframe tbody tr th:only-of-type {\n",
              "        vertical-align: middle;\n",
              "    }\n",
              "\n",
              "    .dataframe tbody tr th {\n",
              "        vertical-align: top;\n",
              "    }\n",
              "\n",
              "    .dataframe thead th {\n",
              "        text-align: right;\n",
              "    }\n",
              "</style>\n",
              "<table border=\"1\" class=\"dataframe\">\n",
              "  <thead>\n",
              "    <tr style=\"text-align: right;\">\n",
              "      <th></th>\n",
              "      <th>duration_sec</th>\n",
              "      <th>start_station_id</th>\n",
              "      <th>start_station_latitude</th>\n",
              "      <th>start_station_longitude</th>\n",
              "      <th>end_station_id</th>\n",
              "      <th>end_station_latitude</th>\n",
              "      <th>end_station_longitude</th>\n",
              "      <th>bike_id</th>\n",
              "      <th>member_birth_year</th>\n",
              "    </tr>\n",
              "  </thead>\n",
              "  <tbody>\n",
              "    <tr>\n",
              "      <th>count</th>\n",
              "      <td>183412.000000</td>\n",
              "      <td>183215.000000</td>\n",
              "      <td>183412.000000</td>\n",
              "      <td>183412.000000</td>\n",
              "      <td>183215.000000</td>\n",
              "      <td>183412.000000</td>\n",
              "      <td>183412.000000</td>\n",
              "      <td>183412.000000</td>\n",
              "      <td>175147.000000</td>\n",
              "    </tr>\n",
              "    <tr>\n",
              "      <th>mean</th>\n",
              "      <td>726.078435</td>\n",
              "      <td>138.590427</td>\n",
              "      <td>37.771223</td>\n",
              "      <td>-122.352664</td>\n",
              "      <td>136.249123</td>\n",
              "      <td>37.771427</td>\n",
              "      <td>-122.352250</td>\n",
              "      <td>4472.906375</td>\n",
              "      <td>1984.806437</td>\n",
              "    </tr>\n",
              "    <tr>\n",
              "      <th>std</th>\n",
              "      <td>1794.389780</td>\n",
              "      <td>111.778864</td>\n",
              "      <td>0.099581</td>\n",
              "      <td>0.117097</td>\n",
              "      <td>111.515131</td>\n",
              "      <td>0.099490</td>\n",
              "      <td>0.116673</td>\n",
              "      <td>1664.383394</td>\n",
              "      <td>10.116689</td>\n",
              "    </tr>\n",
              "    <tr>\n",
              "      <th>min</th>\n",
              "      <td>61.000000</td>\n",
              "      <td>3.000000</td>\n",
              "      <td>37.317298</td>\n",
              "      <td>-122.453704</td>\n",
              "      <td>3.000000</td>\n",
              "      <td>37.317298</td>\n",
              "      <td>-122.453704</td>\n",
              "      <td>11.000000</td>\n",
              "      <td>1878.000000</td>\n",
              "    </tr>\n",
              "    <tr>\n",
              "      <th>25%</th>\n",
              "      <td>325.000000</td>\n",
              "      <td>47.000000</td>\n",
              "      <td>37.770083</td>\n",
              "      <td>-122.412408</td>\n",
              "      <td>44.000000</td>\n",
              "      <td>37.770407</td>\n",
              "      <td>-122.411726</td>\n",
              "      <td>3777.000000</td>\n",
              "      <td>1980.000000</td>\n",
              "    </tr>\n",
              "    <tr>\n",
              "      <th>50%</th>\n",
              "      <td>514.000000</td>\n",
              "      <td>104.000000</td>\n",
              "      <td>37.780760</td>\n",
              "      <td>-122.398285</td>\n",
              "      <td>100.000000</td>\n",
              "      <td>37.781010</td>\n",
              "      <td>-122.398279</td>\n",
              "      <td>4958.000000</td>\n",
              "      <td>1987.000000</td>\n",
              "    </tr>\n",
              "    <tr>\n",
              "      <th>75%</th>\n",
              "      <td>796.000000</td>\n",
              "      <td>239.000000</td>\n",
              "      <td>37.797280</td>\n",
              "      <td>-122.286533</td>\n",
              "      <td>235.000000</td>\n",
              "      <td>37.797320</td>\n",
              "      <td>-122.288045</td>\n",
              "      <td>5502.000000</td>\n",
              "      <td>1992.000000</td>\n",
              "    </tr>\n",
              "    <tr>\n",
              "      <th>max</th>\n",
              "      <td>85444.000000</td>\n",
              "      <td>398.000000</td>\n",
              "      <td>37.880222</td>\n",
              "      <td>-121.874119</td>\n",
              "      <td>398.000000</td>\n",
              "      <td>37.880222</td>\n",
              "      <td>-121.874119</td>\n",
              "      <td>6645.000000</td>\n",
              "      <td>2001.000000</td>\n",
              "    </tr>\n",
              "  </tbody>\n",
              "</table>\n",
              "</div>"
            ],
            "text/plain": [
              "        duration_sec  start_station_id  ...        bike_id  member_birth_year\n",
              "count  183412.000000     183215.000000  ...  183412.000000      175147.000000\n",
              "mean      726.078435        138.590427  ...    4472.906375        1984.806437\n",
              "std      1794.389780        111.778864  ...    1664.383394          10.116689\n",
              "min        61.000000          3.000000  ...      11.000000        1878.000000\n",
              "25%       325.000000         47.000000  ...    3777.000000        1980.000000\n",
              "50%       514.000000        104.000000  ...    4958.000000        1987.000000\n",
              "75%       796.000000        239.000000  ...    5502.000000        1992.000000\n",
              "max     85444.000000        398.000000  ...    6645.000000        2001.000000\n",
              "\n",
              "[8 rows x 9 columns]"
            ]
          },
          "metadata": {
            "tags": []
          }
        }
      ]
    },
    {
      "cell_type": "code",
      "metadata": {
        "colab": {
          "base_uri": "https://localhost:8080/",
          "height": 177
        },
        "id": "y2wtio__kpAR",
        "outputId": "d5d6e938-ddf9-4da8-86fe-5d1bc467882b"
      },
      "source": [
        "# first few entries of data\n",
        "display(df.head(2))"
      ],
      "execution_count": 6,
      "outputs": [
        {
          "output_type": "display_data",
          "data": {
            "text/html": [
              "<div>\n",
              "<style scoped>\n",
              "    .dataframe tbody tr th:only-of-type {\n",
              "        vertical-align: middle;\n",
              "    }\n",
              "\n",
              "    .dataframe tbody tr th {\n",
              "        vertical-align: top;\n",
              "    }\n",
              "\n",
              "    .dataframe thead th {\n",
              "        text-align: right;\n",
              "    }\n",
              "</style>\n",
              "<table border=\"1\" class=\"dataframe\">\n",
              "  <thead>\n",
              "    <tr style=\"text-align: right;\">\n",
              "      <th></th>\n",
              "      <th>duration_sec</th>\n",
              "      <th>start_time</th>\n",
              "      <th>end_time</th>\n",
              "      <th>start_station_id</th>\n",
              "      <th>start_station_name</th>\n",
              "      <th>start_station_latitude</th>\n",
              "      <th>start_station_longitude</th>\n",
              "      <th>end_station_id</th>\n",
              "      <th>end_station_name</th>\n",
              "      <th>end_station_latitude</th>\n",
              "      <th>end_station_longitude</th>\n",
              "      <th>bike_id</th>\n",
              "      <th>user_type</th>\n",
              "      <th>member_birth_year</th>\n",
              "      <th>member_gender</th>\n",
              "      <th>bike_share_for_all_trip</th>\n",
              "    </tr>\n",
              "  </thead>\n",
              "  <tbody>\n",
              "    <tr>\n",
              "      <th>0</th>\n",
              "      <td>52185</td>\n",
              "      <td>2019-02-28 17:32:10.1450</td>\n",
              "      <td>2019-03-01 08:01:55.9750</td>\n",
              "      <td>21.0</td>\n",
              "      <td>Montgomery St BART Station (Market St at 2nd St)</td>\n",
              "      <td>37.789625</td>\n",
              "      <td>-122.400811</td>\n",
              "      <td>13.0</td>\n",
              "      <td>Commercial St at Montgomery St</td>\n",
              "      <td>37.794231</td>\n",
              "      <td>-122.402923</td>\n",
              "      <td>4902</td>\n",
              "      <td>Customer</td>\n",
              "      <td>1984.0</td>\n",
              "      <td>Male</td>\n",
              "      <td>No</td>\n",
              "    </tr>\n",
              "    <tr>\n",
              "      <th>1</th>\n",
              "      <td>42521</td>\n",
              "      <td>2019-02-28 18:53:21.7890</td>\n",
              "      <td>2019-03-01 06:42:03.0560</td>\n",
              "      <td>23.0</td>\n",
              "      <td>The Embarcadero at Steuart St</td>\n",
              "      <td>37.791464</td>\n",
              "      <td>-122.391034</td>\n",
              "      <td>81.0</td>\n",
              "      <td>Berry St at 4th St</td>\n",
              "      <td>37.775880</td>\n",
              "      <td>-122.393170</td>\n",
              "      <td>2535</td>\n",
              "      <td>Customer</td>\n",
              "      <td>NaN</td>\n",
              "      <td>NaN</td>\n",
              "      <td>No</td>\n",
              "    </tr>\n",
              "  </tbody>\n",
              "</table>\n",
              "</div>"
            ],
            "text/plain": [
              "   duration_sec                start_time  ... member_gender  bike_share_for_all_trip\n",
              "0         52185  2019-02-28 17:32:10.1450  ...          Male                       No\n",
              "1         42521  2019-02-28 18:53:21.7890  ...           NaN                       No\n",
              "\n",
              "[2 rows x 16 columns]"
            ]
          },
          "metadata": {
            "tags": []
          }
        }
      ]
    },
    {
      "cell_type": "code",
      "metadata": {
        "colab": {
          "base_uri": "https://localhost:8080/"
        },
        "id": "w8imGFzdlZky",
        "outputId": "39ae0fd2-55ec-44fe-f46a-ea4f8761c34e"
      },
      "source": [
        "# get null values\n",
        "df.isna().sum()"
      ],
      "execution_count": 7,
      "outputs": [
        {
          "output_type": "execute_result",
          "data": {
            "text/plain": [
              "duration_sec                  0\n",
              "start_time                    0\n",
              "end_time                      0\n",
              "start_station_id            197\n",
              "start_station_name          197\n",
              "start_station_latitude        0\n",
              "start_station_longitude       0\n",
              "end_station_id              197\n",
              "end_station_name            197\n",
              "end_station_latitude          0\n",
              "end_station_longitude         0\n",
              "bike_id                       0\n",
              "user_type                     0\n",
              "member_birth_year          8265\n",
              "member_gender              8265\n",
              "bike_share_for_all_trip       0\n",
              "dtype: int64"
            ]
          },
          "metadata": {
            "tags": []
          },
          "execution_count": 7
        }
      ]
    },
    {
      "cell_type": "code",
      "metadata": {
        "colab": {
          "base_uri": "https://localhost:8080/"
        },
        "id": "RcHGlcqJy-re",
        "outputId": "26d226b3-ca84-45e4-816a-40ca9429f028"
      },
      "source": [
        "# Unique values of stations\n",
        "print(len(df.start_station_name.unique()))\n",
        "print(len(df.end_station_name.unique()))"
      ],
      "execution_count": 8,
      "outputs": [
        {
          "output_type": "stream",
          "text": [
            "330\n",
            "330\n"
          ],
          "name": "stdout"
        }
      ]
    },
    {
      "cell_type": "code",
      "metadata": {
        "colab": {
          "base_uri": "https://localhost:8080/"
        },
        "id": "um6CRIdtzBnM",
        "outputId": "2d3f4896-ca83-4f51-9f81-25c7ddca61f9"
      },
      "source": [
        "#counts of different Bikes IDs\n",
        "df.bike_id.value_counts()"
      ],
      "execution_count": 9,
      "outputs": [
        {
          "output_type": "execute_result",
          "data": {
            "text/plain": [
              "4794    191\n",
              "4814    176\n",
              "5014    174\n",
              "4422    174\n",
              "5175    173\n",
              "       ... \n",
              "5647      1\n",
              "3655      1\n",
              "1194      1\n",
              "3114      1\n",
              "5891      1\n",
              "Name: bike_id, Length: 4646, dtype: int64"
            ]
          },
          "metadata": {
            "tags": []
          },
          "execution_count": 9
        }
      ]
    },
    {
      "cell_type": "code",
      "metadata": {
        "colab": {
          "base_uri": "https://localhost:8080/"
        },
        "id": "K-bVbf_AziCb",
        "outputId": "d4eefe88-d3a5-4f2e-c38a-65cb2c5e17b4"
      },
      "source": [
        "#counts of different start stations\n",
        "df.start_station_name.value_counts()"
      ],
      "execution_count": 10,
      "outputs": [
        {
          "output_type": "execute_result",
          "data": {
            "text/plain": [
              "Market St at 10th St                                         3904\n",
              "San Francisco Caltrain Station 2  (Townsend St at 4th St)    3544\n",
              "Berry St at 4th St                                           3052\n",
              "Montgomery St BART Station (Market St at 2nd St)             2895\n",
              "Powell St BART Station (Market St at 4th St)                 2760\n",
              "                                                             ... \n",
              "Willow St at Vine St                                            9\n",
              "Parker Ave at McAllister St                                     7\n",
              "21st Ave at International Blvd                                  4\n",
              "Palm St at Willow St                                            4\n",
              "16th St Depot                                                   2\n",
              "Name: start_station_name, Length: 329, dtype: int64"
            ]
          },
          "metadata": {
            "tags": []
          },
          "execution_count": 10
        }
      ]
    },
    {
      "cell_type": "code",
      "metadata": {
        "colab": {
          "base_uri": "https://localhost:8080/"
        },
        "id": "5h8lXO3gzNDP",
        "outputId": "6016d3df-799a-4309-9652-b76e94459660"
      },
      "source": [
        "# Inspecting unique values of categorical column user type & bike_share_for_all_trip\n",
        "print(df.user_type.unique())\n",
        "print(df.bike_share_for_all_trip.unique())"
      ],
      "execution_count": 11,
      "outputs": [
        {
          "output_type": "stream",
          "text": [
            "['Customer' 'Subscriber']\n",
            "['No' 'Yes']\n"
          ],
          "name": "stdout"
        }
      ]
    },
    {
      "cell_type": "code",
      "metadata": {
        "id": "H1bWmzD7zSJG"
      },
      "source": [
        "# Drop unuseful columns\n",
        "df.drop(labels=['start_station_id', 'start_station_name','end_station_id','end_station_name'], axis=1, inplace=True)"
      ],
      "execution_count": 12,
      "outputs": []
    },
    {
      "cell_type": "code",
      "metadata": {
        "colab": {
          "base_uri": "https://localhost:8080/",
          "height": 161
        },
        "id": "NdjFvoPnzWGN",
        "outputId": "543467ea-4d04-4da3-fd83-26bb92cdbcbb"
      },
      "source": [
        "df.head(2)"
      ],
      "execution_count": 13,
      "outputs": [
        {
          "output_type": "execute_result",
          "data": {
            "text/html": [
              "<div>\n",
              "<style scoped>\n",
              "    .dataframe tbody tr th:only-of-type {\n",
              "        vertical-align: middle;\n",
              "    }\n",
              "\n",
              "    .dataframe tbody tr th {\n",
              "        vertical-align: top;\n",
              "    }\n",
              "\n",
              "    .dataframe thead th {\n",
              "        text-align: right;\n",
              "    }\n",
              "</style>\n",
              "<table border=\"1\" class=\"dataframe\">\n",
              "  <thead>\n",
              "    <tr style=\"text-align: right;\">\n",
              "      <th></th>\n",
              "      <th>duration_sec</th>\n",
              "      <th>start_time</th>\n",
              "      <th>end_time</th>\n",
              "      <th>start_station_latitude</th>\n",
              "      <th>start_station_longitude</th>\n",
              "      <th>end_station_latitude</th>\n",
              "      <th>end_station_longitude</th>\n",
              "      <th>bike_id</th>\n",
              "      <th>user_type</th>\n",
              "      <th>member_birth_year</th>\n",
              "      <th>member_gender</th>\n",
              "      <th>bike_share_for_all_trip</th>\n",
              "    </tr>\n",
              "  </thead>\n",
              "  <tbody>\n",
              "    <tr>\n",
              "      <th>0</th>\n",
              "      <td>52185</td>\n",
              "      <td>2019-02-28 17:32:10.1450</td>\n",
              "      <td>2019-03-01 08:01:55.9750</td>\n",
              "      <td>37.789625</td>\n",
              "      <td>-122.400811</td>\n",
              "      <td>37.794231</td>\n",
              "      <td>-122.402923</td>\n",
              "      <td>4902</td>\n",
              "      <td>Customer</td>\n",
              "      <td>1984.0</td>\n",
              "      <td>Male</td>\n",
              "      <td>No</td>\n",
              "    </tr>\n",
              "    <tr>\n",
              "      <th>1</th>\n",
              "      <td>42521</td>\n",
              "      <td>2019-02-28 18:53:21.7890</td>\n",
              "      <td>2019-03-01 06:42:03.0560</td>\n",
              "      <td>37.791464</td>\n",
              "      <td>-122.391034</td>\n",
              "      <td>37.775880</td>\n",
              "      <td>-122.393170</td>\n",
              "      <td>2535</td>\n",
              "      <td>Customer</td>\n",
              "      <td>NaN</td>\n",
              "      <td>NaN</td>\n",
              "      <td>No</td>\n",
              "    </tr>\n",
              "  </tbody>\n",
              "</table>\n",
              "</div>"
            ],
            "text/plain": [
              "   duration_sec                start_time  ... member_gender  bike_share_for_all_trip\n",
              "0         52185  2019-02-28 17:32:10.1450  ...          Male                       No\n",
              "1         42521  2019-02-28 18:53:21.7890  ...           NaN                       No\n",
              "\n",
              "[2 rows x 12 columns]"
            ]
          },
          "metadata": {
            "tags": []
          },
          "execution_count": 13
        }
      ]
    },
    {
      "cell_type": "code",
      "metadata": {
        "colab": {
          "base_uri": "https://localhost:8080/"
        },
        "id": "yNXyPY6I0Mv3",
        "outputId": "5711b186-211e-4232-fbfe-e3491c72215e"
      },
      "source": [
        "# Converting datetime columns to pandas datetime object.\n",
        "df.start_time = pd.to_datetime(df.start_time)\n",
        "df.end_time = pd.to_datetime(df.end_time)\n",
        "type(df.start_time[0])"
      ],
      "execution_count": 14,
      "outputs": [
        {
          "output_type": "execute_result",
          "data": {
            "text/plain": [
              "pandas._libs.tslibs.timestamps.Timestamp"
            ]
          },
          "metadata": {
            "tags": []
          },
          "execution_count": 14
        }
      ]
    },
    {
      "cell_type": "code",
      "metadata": {
        "colab": {
          "base_uri": "https://localhost:8080/",
          "height": 161
        },
        "id": "jPwS6Xhl0P-j",
        "outputId": "dd72b456-6e83-4b5e-8f81-1fe3719da464"
      },
      "source": [
        "# Extract more useful columns from the datetime columns\n",
        "df['duration_min']= (df['duration_sec']/60).round(0).astype(int)\n",
        "df['duration_hour']= (df['duration_sec']/3600).round(0).astype(int)\n",
        "df['start_time_month']= df.start_time.dt.month\n",
        "df['start_time_day']= df.start_time.dt.day\n",
        "df['start_time_day_name']= df['start_time'].dt.day_name()\n",
        "df['start_time_hour']= df['start_time'].dt.hour\n",
        "df.head(2)"
      ],
      "execution_count": 15,
      "outputs": [
        {
          "output_type": "execute_result",
          "data": {
            "text/html": [
              "<div>\n",
              "<style scoped>\n",
              "    .dataframe tbody tr th:only-of-type {\n",
              "        vertical-align: middle;\n",
              "    }\n",
              "\n",
              "    .dataframe tbody tr th {\n",
              "        vertical-align: top;\n",
              "    }\n",
              "\n",
              "    .dataframe thead th {\n",
              "        text-align: right;\n",
              "    }\n",
              "</style>\n",
              "<table border=\"1\" class=\"dataframe\">\n",
              "  <thead>\n",
              "    <tr style=\"text-align: right;\">\n",
              "      <th></th>\n",
              "      <th>duration_sec</th>\n",
              "      <th>start_time</th>\n",
              "      <th>end_time</th>\n",
              "      <th>start_station_latitude</th>\n",
              "      <th>start_station_longitude</th>\n",
              "      <th>end_station_latitude</th>\n",
              "      <th>end_station_longitude</th>\n",
              "      <th>bike_id</th>\n",
              "      <th>user_type</th>\n",
              "      <th>member_birth_year</th>\n",
              "      <th>member_gender</th>\n",
              "      <th>bike_share_for_all_trip</th>\n",
              "      <th>duration_min</th>\n",
              "      <th>duration_hour</th>\n",
              "      <th>start_time_month</th>\n",
              "      <th>start_time_day</th>\n",
              "      <th>start_time_day_name</th>\n",
              "      <th>start_time_hour</th>\n",
              "    </tr>\n",
              "  </thead>\n",
              "  <tbody>\n",
              "    <tr>\n",
              "      <th>0</th>\n",
              "      <td>52185</td>\n",
              "      <td>2019-02-28 17:32:10.145</td>\n",
              "      <td>2019-03-01 08:01:55.975</td>\n",
              "      <td>37.789625</td>\n",
              "      <td>-122.400811</td>\n",
              "      <td>37.794231</td>\n",
              "      <td>-122.402923</td>\n",
              "      <td>4902</td>\n",
              "      <td>Customer</td>\n",
              "      <td>1984.0</td>\n",
              "      <td>Male</td>\n",
              "      <td>No</td>\n",
              "      <td>870</td>\n",
              "      <td>14</td>\n",
              "      <td>2</td>\n",
              "      <td>28</td>\n",
              "      <td>Thursday</td>\n",
              "      <td>17</td>\n",
              "    </tr>\n",
              "    <tr>\n",
              "      <th>1</th>\n",
              "      <td>42521</td>\n",
              "      <td>2019-02-28 18:53:21.789</td>\n",
              "      <td>2019-03-01 06:42:03.056</td>\n",
              "      <td>37.791464</td>\n",
              "      <td>-122.391034</td>\n",
              "      <td>37.775880</td>\n",
              "      <td>-122.393170</td>\n",
              "      <td>2535</td>\n",
              "      <td>Customer</td>\n",
              "      <td>NaN</td>\n",
              "      <td>NaN</td>\n",
              "      <td>No</td>\n",
              "      <td>709</td>\n",
              "      <td>12</td>\n",
              "      <td>2</td>\n",
              "      <td>28</td>\n",
              "      <td>Thursday</td>\n",
              "      <td>18</td>\n",
              "    </tr>\n",
              "  </tbody>\n",
              "</table>\n",
              "</div>"
            ],
            "text/plain": [
              "   duration_sec              start_time  ... start_time_day_name  start_time_hour\n",
              "0         52185 2019-02-28 17:32:10.145  ...            Thursday               17\n",
              "1         42521 2019-02-28 18:53:21.789  ...            Thursday               18\n",
              "\n",
              "[2 rows x 18 columns]"
            ]
          },
          "metadata": {
            "tags": []
          },
          "execution_count": 15
        }
      ]
    },
    {
      "cell_type": "code",
      "metadata": {
        "colab": {
          "base_uri": "https://localhost:8080/",
          "height": 127
        },
        "id": "n3aFVZvT0cFP",
        "outputId": "36c40e34-3565-4a78-ea3b-bd79a984544b"
      },
      "source": [
        "# Drop duration_sec, start_time and end_time columns as they are no longer useful\n",
        "df.drop(labels=['duration_sec', 'start_time', 'end_time'], axis=1, inplace=True)\n",
        "df.head(2)"
      ],
      "execution_count": 16,
      "outputs": [
        {
          "output_type": "execute_result",
          "data": {
            "text/html": [
              "<div>\n",
              "<style scoped>\n",
              "    .dataframe tbody tr th:only-of-type {\n",
              "        vertical-align: middle;\n",
              "    }\n",
              "\n",
              "    .dataframe tbody tr th {\n",
              "        vertical-align: top;\n",
              "    }\n",
              "\n",
              "    .dataframe thead th {\n",
              "        text-align: right;\n",
              "    }\n",
              "</style>\n",
              "<table border=\"1\" class=\"dataframe\">\n",
              "  <thead>\n",
              "    <tr style=\"text-align: right;\">\n",
              "      <th></th>\n",
              "      <th>start_station_latitude</th>\n",
              "      <th>start_station_longitude</th>\n",
              "      <th>end_station_latitude</th>\n",
              "      <th>end_station_longitude</th>\n",
              "      <th>bike_id</th>\n",
              "      <th>user_type</th>\n",
              "      <th>member_birth_year</th>\n",
              "      <th>member_gender</th>\n",
              "      <th>bike_share_for_all_trip</th>\n",
              "      <th>duration_min</th>\n",
              "      <th>duration_hour</th>\n",
              "      <th>start_time_month</th>\n",
              "      <th>start_time_day</th>\n",
              "      <th>start_time_day_name</th>\n",
              "      <th>start_time_hour</th>\n",
              "    </tr>\n",
              "  </thead>\n",
              "  <tbody>\n",
              "    <tr>\n",
              "      <th>0</th>\n",
              "      <td>37.789625</td>\n",
              "      <td>-122.400811</td>\n",
              "      <td>37.794231</td>\n",
              "      <td>-122.402923</td>\n",
              "      <td>4902</td>\n",
              "      <td>Customer</td>\n",
              "      <td>1984.0</td>\n",
              "      <td>Male</td>\n",
              "      <td>No</td>\n",
              "      <td>870</td>\n",
              "      <td>14</td>\n",
              "      <td>2</td>\n",
              "      <td>28</td>\n",
              "      <td>Thursday</td>\n",
              "      <td>17</td>\n",
              "    </tr>\n",
              "    <tr>\n",
              "      <th>1</th>\n",
              "      <td>37.791464</td>\n",
              "      <td>-122.391034</td>\n",
              "      <td>37.775880</td>\n",
              "      <td>-122.393170</td>\n",
              "      <td>2535</td>\n",
              "      <td>Customer</td>\n",
              "      <td>NaN</td>\n",
              "      <td>NaN</td>\n",
              "      <td>No</td>\n",
              "      <td>709</td>\n",
              "      <td>12</td>\n",
              "      <td>2</td>\n",
              "      <td>28</td>\n",
              "      <td>Thursday</td>\n",
              "      <td>18</td>\n",
              "    </tr>\n",
              "  </tbody>\n",
              "</table>\n",
              "</div>"
            ],
            "text/plain": [
              "   start_station_latitude  ...  start_time_hour\n",
              "0               37.789625  ...               17\n",
              "1               37.791464  ...               18\n",
              "\n",
              "[2 rows x 15 columns]"
            ]
          },
          "metadata": {
            "tags": []
          },
          "execution_count": 16
        }
      ]
    },
    {
      "cell_type": "markdown",
      "metadata": {
        "id": "qWO91oScjM_Y"
      },
      "source": [
        "### What is the structure of your dataset?\n",
        "The Ford GoBike System Dataset consists of 183412 bike rides that, contains the following 16 columns:\n",
        "\n",
        "*   Trip Duration (seconds)\n",
        "*   Start Time and Date\n",
        "*   End Time and Date\n",
        "*   Start Station ID\n",
        "*   Start Station Name\n",
        "*   Start Station Latitude\n",
        "*   Start Station Longitude\n",
        "*   End Station ID\n",
        "*   End Station Name\n",
        "*   End Station Latitude\n",
        "*   End Station Longitude\n",
        "*   Bike ID\n",
        "*   User Type\n",
        "*   User Birthday\n",
        "*   User Gender\n",
        "*   Bike share\n",
        "\n",
        "### What is/are the main feature(s) of interest in your dataset?\n",
        "\n",
        "> Number of Trips and Trip Duration\n",
        "\n",
        "### What features in the dataset do you think will help support your investigation into your feature(s) of interest?\n",
        "\n",
        "> User Type and Bike share"
      ]
    },
    {
      "cell_type": "markdown",
      "metadata": {
        "id": "2hShzTctjM_Z"
      },
      "source": [
        "## Univariate Exploration\n"
      ]
    },
    {
      "cell_type": "code",
      "metadata": {
        "colab": {
          "base_uri": "https://localhost:8080/",
          "height": 294
        },
        "id": "4ySd-dDcjM_a",
        "outputId": "b1d24500-a533-4e41-bd98-597ca19d9836"
      },
      "source": [
        "# Distribution of Trip Durations in minitues\n",
        "# bins = np.arange(0, df['duration_min'].max()+10, 10)\n",
        "plt.hist(data=df, x='duration_min', bins=100)\n",
        "plt.title('Distribution of Trip Durations in Minutes')\n",
        "plt.xlabel('Duration in Minutes')\n",
        "plt.ylabel('Number of Trips')\n",
        "plt.xlim([0, 200])\n",
        "plt.show()"
      ],
      "execution_count": 17,
      "outputs": [
        {
          "output_type": "display_data",
          "data": {
            "image/png": "[encoded data removed]",
            "text/plain": [
              "<Figure size 432x288 with 1 Axes>"
            ]
          },
          "metadata": {
            "tags": [],
            "needs_background": "light"
          }
        }
      ]
    },
    {
      "cell_type": "markdown",
      "metadata": {
        "id": "HvI7C4GP1JSL"
      },
      "source": [
        "**Most trip durations are less than 70 mins long (between 0 - 30 mins).**\n"
      ]
    },
    {
      "cell_type": "code",
      "metadata": {
        "colab": {
          "base_uri": "https://localhost:8080/",
          "height": 294
        },
        "id": "HtRWNCnV1CtT",
        "outputId": "4330a732-d646-48ab-ad1f-e5e69042374d"
      },
      "source": [
        "# Distribution of Trip Durations in hours\n",
        "plt.hist(data=df, x='duration_hour', bins=50)\n",
        "plt.title('Distribution of Trip Durations in Hours')\n",
        "plt.xlabel('Duration in Hours')\n",
        "plt.ylabel('Number of Trips')\n",
        "plt.xlim([0, 5])\n",
        "plt.show()"
      ],
      "execution_count": 18,
      "outputs": [
        {
          "output_type": "display_data",
          "data": {
            "image/png": "[encoded data removed]",
            "text/plain": [
              "<Figure size 432x288 with 1 Axes>"
            ]
          },
          "metadata": {
            "tags": [],
            "needs_background": "light"
          }
        }
      ]
    },
    {
      "cell_type": "markdown",
      "metadata": {
        "id": "UKnTHiEN15Ww"
      },
      "source": [
        "**most of the trip durations is less than 1 hour \"consistent with last finding\".**"
      ]
    },
    {
      "cell_type": "code",
      "metadata": {
        "colab": {
          "base_uri": "https://localhost:8080/",
          "height": 373
        },
        "id": "Irqb4VuojM_c",
        "outputId": "719fc180-d87f-4a49-f40b-963b89e46101"
      },
      "source": [
        "# plotting types of users \n",
        "user_type = df['user_type'].value_counts()\n",
        "user_type.plot(x=user_type.index, y=user_type, kind='pie', figsize=(10,6), autopct='%1.0f%%');\n",
        "plt.title('Types of users');"
      ],
      "execution_count": 19,
      "outputs": [
        {
          "output_type": "display_data",
          "data": {
            "image/png": "[encoded data removed]",
            "text/plain": [
              "<Figure size 720x432 with 1 Axes>"
            ]
          },
          "metadata": {
            "tags": []
          }
        }
      ]
    },
    {
      "cell_type": "markdown",
      "metadata": {
        "id": "AOtvZr9i2bJg"
      },
      "source": [
        "**Subscribers have more trips than regular customers.**\n",
        "\n"
      ]
    },
    {
      "cell_type": "code",
      "metadata": {
        "colab": {
          "base_uri": "https://localhost:8080/",
          "height": 373
        },
        "id": "ZzOHmhAe2H0Q",
        "outputId": "af7c36a2-644e-45c9-e0af-1ead7e47df85"
      },
      "source": [
        "# plotting types of users \n",
        "user_type = df['bike_share_for_all_trip'].value_counts()\n",
        "user_type.plot(x=user_type.index, y=user_type, kind='pie', figsize=(10,6), autopct='%1.0f%%');\n",
        "plt.title('Bike share for all trip');"
      ],
      "execution_count": 20,
      "outputs": [
        {
          "output_type": "display_data",
          "data": {
            "image/png": "[encoded data removed]",
            "text/plain": [
              "<Figure size 720x432 with 1 Axes>"
            ]
          },
          "metadata": {
            "tags": []
          }
        }
      ]
    },
    {
      "cell_type": "markdown",
      "metadata": {
        "id": "yNofoNWX2iaW"
      },
      "source": [
        "**Most Trips don't share bikes.**"
      ]
    },
    {
      "cell_type": "code",
      "metadata": {
        "colab": {
          "base_uri": "https://localhost:8080/",
          "height": 404
        },
        "id": "TEC1-4xZ2xqN",
        "outputId": "e603edce-7046-4931-f01a-4c6b4253760c"
      },
      "source": [
        "# Distribution of Trip through week days\n",
        "\n",
        "base_color = sb.color_palette()[0]\n",
        "start_time_day_name_order = df['start_time_day_name'].value_counts().index\n",
        "plt.figure(figsize=[10, 6])\n",
        "sb.countplot(data=df, x='start_time_day_name', order=start_time_day_name_order)\n",
        "plt.xlabel('week Days')\n",
        "plt.ylabel('Number of Trips')\n",
        "plt.title('Distribution of Trip through week days');"
      ],
      "execution_count": 21,
      "outputs": [
        {
          "output_type": "display_data",
          "data": {
            "image/png": "[encoded data removed]",
            "text/plain": [
              "<Figure size 720x432 with 1 Axes>"
            ]
          },
          "metadata": {
            "tags": [],
            "needs_background": "light"
          }
        }
      ]
    },
    {
      "cell_type": "markdown",
      "metadata": {
        "id": "PDadJu7M3A7e"
      },
      "source": [
        "**Most Trips are during Thursdays, we can say then that middle days has higher number of trips than holidays.**"
      ]
    },
    {
      "cell_type": "code",
      "metadata": {
        "colab": {
          "base_uri": "https://localhost:8080/",
          "height": 404
        },
        "id": "erwalHX22zBB",
        "outputId": "ce7a557b-aa99-4069-f1ec-085e01fd8f33"
      },
      "source": [
        "# Distribution of Trip through rent hours per day\n",
        "\n",
        "base_color = sb.color_palette()[0]\n",
        "start_time_hour_order = df['start_time_hour'].value_counts().index\n",
        "plt.figure(figsize=[15, 6])\n",
        "sb.countplot(data=df, x='start_time_hour', order=start_time_hour_order)\n",
        "plt.xlabel('Frequantly rent hours per day')\n",
        "plt.ylabel('Number of Trips')\n",
        "plt.title('Distribution of Trip through hours per day');"
      ],
      "execution_count": 22,
      "outputs": [
        {
          "output_type": "display_data",
          "data": {
            "image/png": "[encoded data removed]",
            "text/plain": [
              "<Figure size 1080x432 with 1 Axes>"
            ]
          },
          "metadata": {
            "tags": [],
            "needs_background": "light"
          }
        }
      ]
    },
    {
      "cell_type": "markdown",
      "metadata": {
        "id": "b3WWpeXX3fUU"
      },
      "source": [
        "**most rent hours are between 8 A.M and 8 P.M \"20\" , peak of rent hours is at 5 PM \"17\".**"
      ]
    },
    {
      "cell_type": "markdown",
      "metadata": {
        "id": "_Cd-uzAnjM_c"
      },
      "source": [
        "### Discuss the distribution(s) of your variable(s) of interest. Were there any unusual points? Did you need to perform any transformations?\n",
        "\n",
        "> **No there wasn't , although there was some null values in the dataset, I haven't used those feautres in my analysis.**\n",
        "\n",
        "### Of the features you investigated, were there any unusual distributions? Did you perform any operations on the data to tidy, adjust, or change the form of the data? If so, why did you do this?\n",
        "\n",
        "> **I converted start times & end times to datetime format, so that I can extract Trip Durations in Minutes, seconds , also extracted trip days and months. it helped me plotting histograms and bar charts to show what is the distribution of trips among these factors.**"
      ]
    },
    {
      "cell_type": "markdown",
      "metadata": {
        "id": "M2Y8_baqjM_d"
      },
      "source": [
        "## Bivariate Exploration\n"
      ]
    },
    {
      "cell_type": "code",
      "metadata": {
        "colab": {
          "base_uri": "https://localhost:8080/",
          "height": 350
        },
        "id": "7Rt196nH4PfP",
        "outputId": "81f47886-26f7-44a5-e289-b8d6822ce204"
      },
      "source": [
        "# Distribution of Duration on User Type\n",
        "\n",
        "plt.figure(figsize = [10, 5])\n",
        "sb.boxplot(data=df, x='user_type', y='duration_min')\n",
        "plt.ylim([-1, 75])\n",
        "plt.title('Trip Duration on User Type')\n",
        "plt.xlabel('User Type')\n",
        "plt.ylabel('Duration in second')\n",
        "plt.show()"
      ],
      "execution_count": 23,
      "outputs": [
        {
          "output_type": "display_data",
          "data": {
            "image/png": "[encoded data removed]",
            "text/plain": [
              "<Figure size 720x360 with 1 Axes>"
            ]
          },
          "metadata": {
            "tags": [],
            "needs_background": "light"
          }
        }
      ]
    },
    {
      "cell_type": "markdown",
      "metadata": {
        "id": "Zmj0o_UhJIjo"
      },
      "source": [
        "**Y-values were very widespread, so I limit y-axis to 70 mins**"
      ]
    },
    {
      "cell_type": "markdown",
      "metadata": {
        "id": "QYaFDz4wJZpR"
      },
      "source": [
        "**Customers Tend to ongo longer trips than subscribers**"
      ]
    },
    {
      "cell_type": "code",
      "metadata": {
        "colab": {
          "base_uri": "https://localhost:8080/",
          "height": 350
        },
        "id": "iLOs3rVI4Zg8",
        "outputId": "7070a8a1-97b6-42f8-95bb-a71a0df8787d"
      },
      "source": [
        "# Distribution of user types trips per week\n",
        "\n",
        "plt.figure(figsize = [10, 5])\n",
        "start_time_day_name_order = df['start_time_day_name'].value_counts().index\n",
        "sb.countplot(data=df, x='start_time_day_name', hue='user_type', order= start_time_day_name_order);\n",
        "plt.title('user types trips pre week days')\n",
        "plt.xlabel('Hour of Day');\n",
        "plt.ylabel('Count');"
      ],
      "execution_count": 24,
      "outputs": [
        {
          "output_type": "display_data",
          "data": {
            "image/png": "[encoded data removed]",
            "text/plain": [
              "<Figure size 720x360 with 1 Axes>"
            ]
          },
          "metadata": {
            "tags": [],
            "needs_background": "light"
          }
        }
      ]
    },
    {
      "cell_type": "markdown",
      "metadata": {
        "id": "Ch97CzzNKEfU"
      },
      "source": [
        "**Subscribers users tend to do more trips on all weekdays than Customers, and it makes sense, as subscribers already make 90% of the population in the dataset**"
      ]
    },
    {
      "cell_type": "markdown",
      "metadata": {
        "id": "BYT8sMDXjM_f"
      },
      "source": [
        "### Talk about some of the relationships you observed in this part of the investigation. How did the feature(s) of interest vary with other features in the dataset?\n",
        "\n",
        "> as Customers don't have the luxury to have bikes whenever they need, they tend to have longer runs. meanwhile subscribers tend to have bigger number of trips \n",
        "\n",
        "### Did you observe any interesting relationships between the other features (not the main feature(s) of interest)?\n",
        "\n",
        "> not really !"
      ]
    },
    {
      "cell_type": "markdown",
      "metadata": {
        "id": "CaB7dZwvjM_f"
      },
      "source": [
        "## Multivariate Exploration\n"
      ]
    },
    {
      "cell_type": "code",
      "metadata": {
        "colab": {
          "base_uri": "https://localhost:8080/",
          "height": 370
        },
        "id": "jBbjjDuVjM_g",
        "outputId": "f655eabb-4c95-418d-b614-1ecce5f138d8"
      },
      "source": [
        "# Hourly Usage through Weekdays for Customers and Subscribers\n",
        "\n",
        "plt.figure(figsize = [16, 5])\n",
        "plt.suptitle('Hourly Usage through Weekdays for Customers and Subscribers')\n",
        "\n",
        "plt.subplot(1, 2, 1)\n",
        "daycounts = df[df['user_type'] == \"Customer\"].groupby(['start_time_day_name', 'start_time_hour']).size()\n",
        "daycounts = daycounts.reset_index(name='index')\n",
        "daycounts = daycounts.pivot(index='start_time_day_name', columns='start_time_hour', values='index')\n",
        "sb.heatmap(daycounts);\n",
        "plt.title('Customer');\n",
        "plt.xlabel('Hour of Day');\n",
        "plt.ylabel('Day of Week');\n",
        "\n",
        "\n",
        "plt.subplot(1, 2, 2)\n",
        "counts = df[df['user_type'] == \"Subscriber\"].groupby(['start_time_day_name', 'start_time_hour']).size()\n",
        "counts = counts.reset_index(name='index')\n",
        "counts = counts.pivot(index='start_time_day_name', columns='start_time_hour', values='index')\n",
        "sb.heatmap(counts);\n",
        "plt.title('Subscriber');\n",
        "plt.xlabel('Hour of Day');\n",
        "plt.ylabel('Day of Week');"
      ],
      "execution_count": 33,
      "outputs": [
        {
          "output_type": "display_data",
          "data": {
            "image/png": "[encoded data removed]",
            "text/plain": [
              "<Figure size 1152x360 with 4 Axes>"
            ]
          },
          "metadata": {
            "tags": [],
            "needs_background": "light"
          }
        }
      ]
    },
    {
      "cell_type": "markdown",
      "metadata": {
        "id": "mrt0m2GTvm1D"
      },
      "source": [
        "*   subscribers have more trips on work days (Monday- Friday) peak at 5:00 PM.\n",
        "*   customers have more trips on weekends than subscribers (peak at 1:00 PM)\n",
        "\n",
        "\n"
      ]
    },
    {
      "cell_type": "code",
      "metadata": {
        "id": "EosBLEtyuYY5"
      },
      "source": [
        "#remove NA values at genders\n",
        "df = df[df['member_gender'].notna()]"
      ],
      "execution_count": null,
      "outputs": []
    },
    {
      "cell_type": "code",
      "metadata": {
        "colab": {
          "base_uri": "https://localhost:8080/"
        },
        "id": "bOp20PhPvHvm",
        "outputId": "345a51d5-40e6-4efb-b266-4df09e83af88"
      },
      "source": [
        "#know the value counts of males and females\n",
        "df.member_gender.value_counts()"
      ],
      "execution_count": null,
      "outputs": [
        {
          "output_type": "execute_result",
          "data": {
            "text/plain": [
              "Male      130651\n",
              "Female     40844\n",
              "Other       3652\n",
              "Name: member_gender, dtype: int64"
            ]
          },
          "metadata": {
            "tags": []
          },
          "execution_count": 34
        }
      ]
    },
    {
      "cell_type": "code",
      "metadata": {
        "colab": {
          "base_uri": "https://localhost:8080/",
          "height": 334
        },
        "id": "cXre9lWr4lK9",
        "outputId": "2455eea5-2824-4a45-9a83-4f8466acb57f"
      },
      "source": [
        "# Average duration on Weekdays for Customers and Subscribers\n",
        "\n",
        "plt.figure(figsize = [15, 5])\n",
        "sb.pointplot(data=df, x='start_time_day_name', y='start_time_hour', hue='user_type', linestyles=\"\" ,dodge=0.3,);\n",
        "plt.xlabel('Day of Week');\n",
        "plt.ylabel('Average Trip Duration in Minute');"
      ],
      "execution_count": null,
      "outputs": [
        {
          "output_type": "display_data",
          "data": {
            "image/png": "[encoded data removed]",
            "text/plain": [
              "<Figure size 1080x360 with 1 Axes>"
            ]
          },
          "metadata": {
            "tags": [],
            "needs_background": "light"
          }
        }
      ]
    },
    {
      "cell_type": "markdown",
      "metadata": {
        "id": "SJJFgglxxsGs"
      },
      "source": [
        "**Customers average duration Trips are more than subscriber in all weekdays expect weekends(saturday and sunday). maximum difference is at Thursday and Tuesday.**"
      ]
    },
    {
      "cell_type": "code",
      "metadata": {
        "colab": {
          "base_uri": "https://localhost:8080/",
          "height": 370
        },
        "id": "k2Vbg3YVsz3B",
        "outputId": "56c822d2-2a58-44dd-b745-e76e5c202250"
      },
      "source": [
        "# Hourly Usage through Weekdays for Customers and Subscribers\n",
        "\n",
        "plt.figure(figsize = [16, 5])\n",
        "plt.suptitle('Hourly Usage through Weekdays for Males and Females')\n",
        "\n",
        "plt.subplot(1, 2, 1)\n",
        "daycounts = df[df['member_gender'] == \"Male\"].groupby(['start_time_day_name', 'start_time_hour']).size()\n",
        "daycounts = daycounts.reset_index(name='index')\n",
        "daycounts = daycounts.pivot(index='start_time_day_name', columns='start_time_hour', values='index')\n",
        "sb.heatmap(daycounts);\n",
        "plt.title('Male');\n",
        "plt.xlabel('Hour of Day');\n",
        "plt.ylabel('Day of Week');\n",
        "\n",
        "\n",
        "plt.subplot(1, 2, 2)\n",
        "subscribers = df.query('member_gender == \"Female\"')\n",
        "counts = subscribers.groupby(['start_time_day_name', 'start_time_hour']).size()\n",
        "counts = counts.reset_index(name='index')\n",
        "counts = counts.pivot(index='start_time_day_name', columns='start_time_hour', values='index')\n",
        "sb.heatmap(counts);\n",
        "plt.title('Female');\n",
        "plt.xlabel('Hour of Day');\n",
        "plt.ylabel('Day of Week');"
      ],
      "execution_count": 34,
      "outputs": [
        {
          "output_type": "display_data",
          "data": {
            "image/png": "[encoded data removed]",
            "text/plain": [
              "<Figure size 1152x360 with 4 Axes>"
            ]
          },
          "metadata": {
            "tags": [],
            "needs_background": "light"
          }
        }
      ]
    },
    {
      "cell_type": "markdown",
      "metadata": {
        "id": "i1BTjRYZs28y"
      },
      "source": [
        "**Seems that two distributions don't differ so much, both men and women tends to have most of their trips during week days, peaks at 5:00 PM and 8:00 AM**\n",
        "\n"
      ]
    },
    {
      "cell_type": "markdown",
      "metadata": {
        "id": "JGuWypWEjM_h"
      },
      "source": [
        "### Talk about some of the relationships you observed in this part of the investigation. Were there features that strengthened each other in terms of looking at your feature(s) of interest?\n",
        "\n",
        "> subscribers are active more through weekdays, while customers are active more through weekends.\n",
        "> customers aren't active through weekdays, but they tend to have longer runs in that time.\n",
        "> subscribers aren't active through weekends, but they tend to have longer runs in that time.\n",
        "\n",
        "\n",
        "### Were there any interesting or surprising interactions between features?\n",
        "\n",
        "> We can conclude that there is an inverse relation between category(customers-subscribers) activeness or peak and their long runs"
      ]
    },
    {
      "cell_type": "code",
      "metadata": {
        "colab": {
          "base_uri": "https://localhost:8080/"
        },
        "id": "1Rmp1Ru11T2B",
        "outputId": "383b35d6-9fb9-4f76-932a-e24e3c35c81f"
      },
      "source": [
        "!jupyter nbconvert --to html /content/exploration_template.ipynb"
      ],
      "execution_count": 30,
      "outputs": [
        {
          "output_type": "stream",
          "text": [
            "[NbConvertApp] Converting notebook /content/exploration_template.ipynb to html\n",
            "[NbConvertApp] Writing 550158 bytes to /content/exploration_template.html\n"
          ],
          "name": "stdout"
        }
      ]
    },
    {
      "cell_type": "code",
      "metadata": {
        "id": "17jlA6gO1aBZ"
      },
      "source": [
        ""
      ],
      "execution_count": null,
      "outputs": []
    }
  ]
}